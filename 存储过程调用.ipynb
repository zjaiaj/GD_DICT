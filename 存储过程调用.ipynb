{
 "cells": [
  {
   "cell_type": "code",
   "execution_count": 7,
   "metadata": {},
   "outputs": [],
   "source": [
    "import pymysql\n",
    "\n",
    "client = pymysql.connect(host='192.168.1.172',\n",
    "                        port=3306,\n",
    "                        user='root',\n",
    "                        password='root123',\n",
    "                        database = 'rep_assistant',\n",
    "                        charset='utf8')\n",
    "\n",
    "cursor=client.cursor(pymysql.cursors.DictCursor)"
   ]
  },
  {
   "cell_type": "code",
   "execution_count": null,
   "metadata": {},
   "outputs": [],
   "source": [
    "res = cursor.callproc('zk_cgxmmc')"
   ]
  },
  {
   "cell_type": "code",
   "execution_count": 20,
   "metadata": {},
   "outputs": [],
   "source": [
    "cursor.execute('insert into proc_data(id, rep_project_name, rep_project_num, \\\n",
    "               rep_region, rep_page_url, rep_publish_time, rep_text, \\\n",
    "               rep_site_source, rep_site_city, create_time, extends_1, extends_2, extends_3, \\\n",
    "               ccgp_url, ccgp_html, status, update_time, rep_label, read_status) \\\n",
    "               select id, rep_project_name, rep_project_num, \\\n",
    "               rep_region, rep_page_url, rep_publish_time, rep_text, \\\n",
    "               rep_site_source, rep_site_city, create_time, extends_1, extends_2, extends_3, \\\n",
    "               ccgp_url, ccgp_html, status, update_time, rep_label, read_status from qcc_data where rep_label is null limit 1000;')\n",
    "\n",
    "client.commit()"
   ]
  },
  {
   "cell_type": "code",
   "execution_count": null,
   "metadata": {},
   "outputs": [],
   "source": [
    "res = cursor.execute('update rep_source_data set rep_label =1 limit 1000')\n",
    "client.commit()"
   ]
  },
  {
   "cell_type": "code",
   "execution_count": null,
   "metadata": {},
   "outputs": [],
   "source": [
    "res = cursor.execute('select rep_project_name from qcc_data where rep_label is null limit 100')"
   ]
  },
  {
   "cell_type": "code",
   "execution_count": null,
   "metadata": {},
   "outputs": [],
   "source": [
    "res = cursor.execute('select rep_project_name from qcc_data where rep_label is null limit 1000')\n",
    "res"
   ]
  },
  {
   "cell_type": "code",
   "execution_count": 12,
   "metadata": {},
   "outputs": [
    {
     "name": "stdout",
     "output_type": "stream",
     "text": [
      "-----------已更新3528条数据----------\n",
      "-------------已读取1000条数据---------------\n",
      "-----------已更新3327条数据----------\n",
      "-------------已读取1000条数据---------------\n",
      "-----------已更新3266条数据----------\n",
      "-------------已读取1000条数据---------------\n",
      "-----------已更新2673条数据----------\n",
      "-------------已读取1000条数据---------------\n",
      "-----------已更新1327条数据----------\n",
      "-------------已读取510条数据---------------\n",
      "END\n"
     ]
    }
   ],
   "source": [
    "res = cursor.execute('select rep_project_name from qcc_data where rep_label is null limit 1000')\n",
    "client.commit()\n",
    "a = 0\n",
    "\n",
    "while res == 1000:\n",
    "    # 调用存储过程\n",
    "    proc = cursor.callproc('zk_cgxmmc')\n",
    "    # 更新已有数据\n",
    "    upd = cursor.execute('update qcc_data set rep_label =1 where id in (select id from zk_cgmc)')\n",
    "    client.commit()\n",
    "    print(\"--------------已更新%s条数据-----------------\" % str(a+1000))\n",
    "    \n",
    "    # 查看数据\n",
    "    res = cursor.execute('select rep_project_name from qcc_data where rep_label is null limit 1000')\n",
    "    client.commit()\n",
    "    print(\"-------------已读取%s条数据---------------\" % str(res))\n",
    "print(\"END\")"
   ]
  },
  {
   "cell_type": "markdown",
   "metadata": {},
   "source": [
    "##  项目名称"
   ]
  },
  {
   "cell_type": "code",
   "execution_count": 18,
   "metadata": {},
   "outputs": [],
   "source": [
    "res1 = cursor.execute('insert into proc_data(id, rep_project_name, rep_project_num, \\\n",
    "               rep_region, rep_page_url, rep_publish_time, rep_text, \\\n",
    "               rep_site_source, rep_site_city, create_time, extends_1, extends_2, extends_3, \\\n",
    "               ccgp_url, ccgp_html, status, update_time, rep_label, read_status) \\\n",
    "               select id, rep_project_name, rep_project_num, \\\n",
    "               rep_region, rep_page_url, rep_publish_time, rep_text, \\\n",
    "               rep_site_source, rep_site_city, create_time, extends_1, extends_2, extends_3, \\\n",
    "               ccgp_url, ccgp_html, status, update_time, rep_label, read_status from qcc_data where rep_label is null limit 1000;')\n",
    "\n",
    "client.commit()\n",
    "\n",
    "res2 = cursor.execute('update qcc_data set rep_label =1 where rep_label is null limit 1000')\n",
    "client.commit()"
   ]
  },
  {
   "cell_type": "code",
   "execution_count": 19,
   "metadata": {},
   "outputs": [
    {
     "name": "stdout",
     "output_type": "stream",
     "text": [
      "-----------已更新1000条数据----------\n",
      "-------------已读取1000条数据---------------\n",
      "-----------已更新2000条数据----------\n",
      "-------------已读取1000条数据---------------\n",
      "-----------已更新3000条数据----------\n",
      "-------------已读取1000条数据---------------\n",
      "-----------已更新4000条数据----------\n",
      "-------------已读取1000条数据---------------\n",
      "-----------已更新5000条数据----------\n",
      "-------------已读取1000条数据---------------\n",
      "-----------已更新6000条数据----------\n",
      "-------------已读取1000条数据---------------\n",
      "-----------已更新7000条数据----------\n",
      "-------------已读取1000条数据---------------\n",
      "-----------已更新8000条数据----------\n",
      "-------------已读取1000条数据---------------\n",
      "-----------已更新9000条数据----------\n",
      "-------------已读取1000条数据---------------\n",
      "-----------已更新10000条数据----------\n",
      "-------------已读取1000条数据---------------\n",
      "-----------已更新11000条数据----------\n",
      "-------------已读取1000条数据---------------\n",
      "-----------已更新12000条数据----------\n",
      "-------------已读取1000条数据---------------\n",
      "-----------已更新13000条数据----------\n",
      "-------------已读取1000条数据---------------\n",
      "-----------已更新14000条数据----------\n",
      "-------------已读取631条数据---------------\n",
      "-----------已更新14631条数据----------\n",
      "-------------已读取0条数据---------------\n",
      "END\n"
     ]
    }
   ],
   "source": [
    "import time\n",
    "a = 0\n",
    "\n",
    "while res1:\n",
    "    # 调用存储过程\n",
    "    try:\n",
    "        proc1 = cursor.callproc('zk_cgxmmc')\n",
    "    except:\n",
    "        continue\n",
    "        # 更新已有数据\n",
    "    upd = cursor.execute('update proc_data set rep_label =1 where rep_label is null limit 1000')\n",
    "    client.commit()\n",
    "    print(\"-----------已更新%s条数据----------\" % str(a+upd))\n",
    "    a += 1000\n",
    "\n",
    "    time.sleep(5)\n",
    "\n",
    "    # 查看数据\n",
    "    res1 = cursor.execute('insert into proc_data(id, rep_project_name, rep_project_num, \\\n",
    "               rep_region, rep_page_url, rep_publish_time, rep_text, \\\n",
    "               rep_site_source, rep_site_city, create_time, extends_1, extends_2, extends_3, \\\n",
    "               ccgp_url, ccgp_html, status, update_time, rep_label, read_status) \\\n",
    "               select id, rep_project_name, rep_project_num, \\\n",
    "               rep_region, rep_page_url, rep_publish_time, rep_text, \\\n",
    "               rep_site_source, rep_site_city, create_time, extends_1, extends_2, extends_3, \\\n",
    "               ccgp_url, ccgp_html, status, update_time, rep_label, read_status from qcc_data where rep_label is null limit 1000;')\n",
    "\n",
    "    client.commit()\n",
    "\n",
    "    res3 = cursor.execute('update qcc_data set rep_label =1 where rep_label is null limit 1000')\n",
    "    client.commit()\n",
    "    print(\"-------------已读取%s条数据---------------\" % str(res3))\n",
    "\n",
    "#cursor.close()\n",
    "print(\"END\")"
   ]
  },
  {
   "cell_type": "code",
   "execution_count": 3,
   "metadata": {},
   "outputs": [],
   "source": [
    "upd = cursor.execute('update proc_data set rep_label =1 where rep_label is null limit 1000')\n",
    "client.commit()"
   ]
  },
  {
   "cell_type": "code",
   "execution_count": null,
   "metadata": {},
   "outputs": [],
   "source": [
    "res = cursor.execute('update qcc_data set rep_label =0 limit 1000')\n",
    "client.commit()"
   ]
  },
  {
   "cell_type": "code",
   "execution_count": null,
   "metadata": {},
   "outputs": [],
   "source": [
    "res = cursor.execute('update qcc_data set rep_label =2 limit 1000')\n",
    "client.commit()"
   ]
  },
  {
   "cell_type": "code",
   "execution_count": 25,
   "metadata": {},
   "outputs": [],
   "source": [
    "import time"
   ]
  },
  {
   "cell_type": "code",
   "execution_count": 26,
   "metadata": {},
   "outputs": [],
   "source": [
    "time.sleep(5)"
   ]
  },
  {
   "cell_type": "code",
   "execution_count": 31,
   "metadata": {},
   "outputs": [],
   "source": [
    "cursor.close()"
   ]
  },
  {
   "cell_type": "markdown",
   "metadata": {},
   "source": [
    "## 采购联系方式"
   ]
  },
  {
   "cell_type": "code",
   "execution_count": 22,
   "metadata": {},
   "outputs": [],
   "source": [
    "res1 = cursor.execute('insert into proc_data(id, rep_project_name, rep_project_num, \\\n",
    "               rep_region, rep_page_url, rep_publish_time, rep_text, \\\n",
    "               rep_site_source, rep_site_city, create_time, extends_1, extends_2, extends_3, \\\n",
    "               ccgp_url, ccgp_html, status, update_time, rep_label, read_status) \\\n",
    "               select id, rep_project_name, rep_project_num, \\\n",
    "               rep_region, rep_page_url, rep_publish_time, rep_text, \\\n",
    "               rep_site_source, rep_site_city, create_time, extends_1, extends_2, extends_3, \\\n",
    "               ccgp_url, ccgp_html, status, update_time, rep_label, read_status from qcc_data where rep_label is null limit 1000;')\n",
    "\n",
    "client.commit()\n",
    "\n",
    "res2 = cursor.execute('update qcc_data set rep_label =1 where rep_label is null limit 1000')\n",
    "client.commit()"
   ]
  },
  {
   "cell_type": "code",
   "execution_count": 23,
   "metadata": {},
   "outputs": [
    {
     "name": "stdout",
     "output_type": "stream",
     "text": [
      "-----------已更新1000条数据----------\n",
      "-------------已读取1000条数据---------------\n",
      "-----------已更新2000条数据----------\n",
      "-------------已读取1000条数据---------------\n",
      "-----------已更新3000条数据----------\n",
      "-------------已读取1000条数据---------------\n",
      "-----------已更新4000条数据----------\n",
      "-------------已读取1000条数据---------------\n",
      "-----------已更新5000条数据----------\n",
      "-------------已读取1000条数据---------------\n",
      "-----------已更新6000条数据----------\n",
      "-------------已读取1000条数据---------------\n",
      "-----------已更新7000条数据----------\n",
      "-------------已读取1000条数据---------------\n",
      "-----------已更新8000条数据----------\n",
      "-------------已读取1000条数据---------------\n",
      "-----------已更新9000条数据----------\n",
      "-------------已读取1000条数据---------------\n",
      "-----------已更新10000条数据----------\n",
      "-------------已读取1000条数据---------------\n",
      "-----------已更新11000条数据----------\n",
      "-------------已读取1000条数据---------------\n",
      "-----------已更新12000条数据----------\n",
      "-------------已读取1000条数据---------------\n",
      "-----------已更新13000条数据----------\n",
      "-------------已读取1000条数据---------------\n",
      "-----------已更新14000条数据----------\n",
      "-------------已读取631条数据---------------\n",
      "-----------已更新14631条数据----------\n",
      "-------------已读取0条数据---------------\n",
      "END\n"
     ]
    }
   ],
   "source": [
    "import time\n",
    "a = 0\n",
    "\n",
    "while res1:\n",
    "    # 调用存储过程\n",
    "    try:\n",
    "        proc1 = cursor.callproc('zk_cgcglx')\n",
    "    except:\n",
    "        continue\n",
    "        # 更新已有数据\n",
    "    upd = cursor.execute('update proc_data set rep_label =1 where rep_label is null limit 1000')\n",
    "    client.commit()\n",
    "    print(\"-----------已更新%s条数据----------\" % str(a+upd))\n",
    "    a += 1000\n",
    "\n",
    "    time.sleep(5)\n",
    "\n",
    "    # 查看数据\n",
    "    res1 = cursor.execute('insert into proc_data(id, rep_project_name, rep_project_num, \\\n",
    "               rep_region, rep_page_url, rep_publish_time, rep_text, \\\n",
    "               rep_site_source, rep_site_city, create_time, extends_1, extends_2, extends_3, \\\n",
    "               ccgp_url, ccgp_html, status, update_time, rep_label, read_status) \\\n",
    "               select id, rep_project_name, rep_project_num, \\\n",
    "               rep_region, rep_page_url, rep_publish_time, rep_text, \\\n",
    "               rep_site_source, rep_site_city, create_time, extends_1, extends_2, extends_3, \\\n",
    "               ccgp_url, ccgp_html, status, update_time, rep_label, read_status from qcc_data where rep_label is null limit 1000;')\n",
    "\n",
    "    client.commit()\n",
    "\n",
    "    res3 = cursor.execute('update qcc_data set rep_label =1 where rep_label is null limit 1000')\n",
    "    client.commit()\n",
    "    print(\"-------------已读取%s条数据---------------\" % str(res3))\n",
    "\n",
    "#cursor.close()\n",
    "print(\"END\")"
   ]
  },
  {
   "cell_type": "markdown",
   "metadata": {},
   "source": [
    "## 客户名称"
   ]
  },
  {
   "cell_type": "code",
   "execution_count": 2,
   "metadata": {},
   "outputs": [],
   "source": [
    "res1 = cursor.execute('insert into proc_data(id, rep_project_name, rep_project_num, \\\n",
    "               rep_region, rep_page_url, rep_publish_time, rep_text, \\\n",
    "               rep_site_source, rep_site_city, create_time, extends_1, extends_2, extends_3, \\\n",
    "               ccgp_url, ccgp_html, status, update_time, rep_label, read_status) \\\n",
    "               select id, rep_project_name, rep_project_num, \\\n",
    "               rep_region, rep_page_url, rep_publish_time, rep_text, \\\n",
    "               rep_site_source, rep_site_city, create_time, extends_1, extends_2, extends_3, \\\n",
    "               ccgp_url, ccgp_html, status, update_time, rep_label, read_status from qcc_data where rep_label is null limit 1000;')\n",
    "\n",
    "client.commit()\n",
    "\n",
    "res2 = cursor.execute('update qcc_data set rep_label =1 where rep_label is null limit 1000')\n",
    "client.commit()"
   ]
  },
  {
   "cell_type": "code",
   "execution_count": null,
   "metadata": {},
   "outputs": [
    {
     "name": "stdout",
     "output_type": "stream",
     "text": [
      "-----------已更新1000条数据----------\n",
      "-------------已读取1000条数据---------------\n",
      "-----------已更新2000条数据----------\n",
      "-------------已读取1000条数据---------------\n",
      "-----------已更新3000条数据----------\n",
      "-------------已读取1000条数据---------------\n",
      "-----------已更新4000条数据----------\n",
      "-------------已读取1000条数据---------------\n",
      "-----------已更新5000条数据----------\n",
      "-------------已读取1000条数据---------------\n"
     ]
    }
   ],
   "source": [
    "import time\n",
    "a = 0\n",
    "\n",
    "while res1:\n",
    "    # 调用存储过程\n",
    "    try:\n",
    "        proc1 = cursor.callproc('zk_cgkhmc')\n",
    "    except:\n",
    "        continue\n",
    "        # 更新已有数据\n",
    "    upd = cursor.execute('update proc_data set rep_label =1 where rep_label is null limit 1000')\n",
    "    client.commit()\n",
    "    print(\"-----------已更新%s条数据----------\" % str(a+upd))\n",
    "    a += 1000\n",
    "\n",
    "    time.sleep(5)\n",
    "\n",
    "    # 查看数据\n",
    "    res1 = cursor.execute('insert into proc_data(id, rep_project_name, rep_project_num, \\\n",
    "               rep_region, rep_page_url, rep_publish_time, rep_text, \\\n",
    "               rep_site_source, rep_site_city, create_time, extends_1, extends_2, extends_3, \\\n",
    "               ccgp_url, ccgp_html, status, update_time, rep_label, read_status) \\\n",
    "               select id, rep_project_name, rep_project_num, \\\n",
    "               rep_region, rep_page_url, rep_publish_time, rep_text, \\\n",
    "               rep_site_source, rep_site_city, create_time, extends_1, extends_2, extends_3, \\\n",
    "               ccgp_url, ccgp_html, status, update_time, rep_label, read_status from qcc_data where rep_label is null limit 1000;')\n",
    "\n",
    "    client.commit()\n",
    "\n",
    "    res3 = cursor.execute('update qcc_data set rep_label =1 where rep_label is null limit 1000')\n",
    "    client.commit()\n",
    "    #print(\"-------------已读取%s条数据---------------\" % str(res3))\n",
    "\n",
    "#cursor.close()\n",
    "print(\"END\")"
   ]
  },
  {
   "cell_type": "markdown",
   "metadata": {},
   "source": [
    "## 中标厂家"
   ]
  },
  {
   "cell_type": "code",
   "execution_count": 3,
   "metadata": {},
   "outputs": [],
   "source": [
    "res1 = cursor.execute('insert into proc_data(id, rep_project_name, rep_project_num, \\\n",
    "               rep_region, rep_page_url, rep_publish_time, rep_text, \\\n",
    "               rep_site_source, rep_site_city, create_time, extends_1, extends_2, extends_3, \\\n",
    "               ccgp_url, ccgp_html, status, update_time, rep_label, read_status) \\\n",
    "               select id, rep_project_name, rep_project_num, \\\n",
    "               rep_region, rep_page_url, rep_publish_time, rep_text, \\\n",
    "               rep_site_source, rep_site_city, create_time, extends_1, extends_2, extends_3, \\\n",
    "               ccgp_url, ccgp_html, status, update_time, rep_label, read_status \\\n",
    "               from qcc_data where rep_label is null limit 1000;')\n",
    "\n",
    "client.commit()\n",
    "\n",
    "res2 = cursor.execute('update qcc_data set rep_label =1 where rep_label is null limit 1000')\n",
    "client.commit()"
   ]
  },
  {
   "cell_type": "code",
   "execution_count": null,
   "metadata": {},
   "outputs": [
    {
     "name": "stdout",
     "output_type": "stream",
     "text": [
      "-----------已更新1000条数据----------\n",
      "-----------已更新2000条数据----------\n",
      "-----------已更新3000条数据----------\n",
      "-----------已更新4000条数据----------\n",
      "-----------已更新5000条数据----------\n",
      "-----------已更新6000条数据----------\n",
      "-----------已更新7000条数据----------\n",
      "-----------已更新8000条数据----------\n",
      "-----------已更新9000条数据----------\n"
     ]
    }
   ],
   "source": [
    "import time\n",
    "a = 0\n",
    "\n",
    "while res1:\n",
    "    # 调用存储过程\n",
    "    try:\n",
    "        proc1 = cursor.callproc('zk_cgzbcj')\n",
    "    except:\n",
    "        continue\n",
    "        # 更新已有数据\n",
    "    upd = cursor.execute('update proc_data set rep_label =1 where rep_label is null limit 1000')\n",
    "    client.commit()\n",
    "    print(\"-----------已更新%s条数据----------\" % str(a+upd))\n",
    "    a += 1000\n",
    "\n",
    "    time.sleep(5)\n",
    "\n",
    "    # 查看数据\n",
    "    res1 = cursor.execute('insert into proc_data(id, rep_project_name, rep_project_num, \\\n",
    "               rep_region, rep_page_url, rep_publish_time, rep_text, \\\n",
    "               rep_site_source, rep_site_city, create_time, extends_1, extends_2, extends_3, \\\n",
    "               ccgp_url, ccgp_html, status, update_time, rep_label, read_status) \\\n",
    "               select id, rep_project_name, rep_project_num, \\\n",
    "               rep_region, rep_page_url, rep_publish_time, rep_text, \\\n",
    "               rep_site_source, rep_site_city, create_time, extends_1, extends_2, extends_3, \\\n",
    "               ccgp_url, ccgp_html, status, update_time, rep_label, read_status from \\\n",
    "               qcc_data where rep_label is null limit 1000;')\n",
    "\n",
    "    client.commit()\n",
    "\n",
    "    res3 = cursor.execute('update qcc_data set rep_label =1 where rep_label is null limit 1000')\n",
    "    client.commit()\n",
    "    #print(\"-------------已读取%s条数据---------------\" % str(res3))\n",
    "\n",
    "#cursor.close()\n",
    "print(\"END\")"
   ]
  },
  {
   "cell_type": "markdown",
   "metadata": {},
   "source": [
    "## 预算金额"
   ]
  },
  {
   "cell_type": "code",
   "execution_count": 5,
   "metadata": {},
   "outputs": [],
   "source": [
    "res1 = cursor.execute('insert into proc_data(id, rep_project_name, rep_project_num, \\\n",
    "               rep_region, rep_page_url, rep_publish_time, rep_text, \\\n",
    "               rep_site_source, rep_site_city, create_time, extends_1, extends_2, extends_3, \\\n",
    "               ccgp_url, ccgp_html, status, update_time, rep_label, read_status) \\\n",
    "               select id, rep_project_name, rep_project_num, \\\n",
    "               rep_region, rep_page_url, rep_publish_time, rep_text, \\\n",
    "               rep_site_source, rep_site_city, create_time, extends_1, extends_2, extends_3, \\\n",
    "               ccgp_url, ccgp_html, status, update_time, rep_label, read_status \\\n",
    "               from qcc_data where rep_label is null limit 1000;')\n",
    "\n",
    "client.commit()\n",
    "\n",
    "res2 = cursor.execute('update qcc_data set rep_label =1 where rep_label is null limit 1000')\n",
    "client.commit()"
   ]
  },
  {
   "cell_type": "code",
   "execution_count": null,
   "metadata": {},
   "outputs": [
    {
     "name": "stdout",
     "output_type": "stream",
     "text": [
      "-----------已更新1000条数据----------\n",
      "-----------已更新2000条数据----------\n",
      "-----------已更新3000条数据----------\n"
     ]
    }
   ],
   "source": [
    "import time\n",
    "a = 0\n",
    "\n",
    "while res1:\n",
    "    # 调用存储过程\n",
    "    try:\n",
    "        proc1 = cursor.callproc('zk_cgysje')\n",
    "    except:\n",
    "        continue\n",
    "        # 更新已有数据\n",
    "    upd = cursor.execute('update proc_data set rep_label =1 where rep_label is null limit 1000')\n",
    "    client.commit()\n",
    "    print(\"-----------已更新%s条数据----------\" % str(a+upd))\n",
    "    a += 1000\n",
    "\n",
    "    time.sleep(5)\n",
    "\n",
    "    # 查看数据\n",
    "    res1 = cursor.execute('insert into proc_data(id, rep_project_name, rep_project_num, \\\n",
    "               rep_region, rep_page_url, rep_publish_time, rep_text, \\\n",
    "               rep_site_source, rep_site_city, create_time, extends_1, extends_2, extends_3, \\\n",
    "               ccgp_url, ccgp_html, status, update_time, rep_label, read_status) \\\n",
    "               select id, rep_project_name, rep_project_num, \\\n",
    "               rep_region, rep_page_url, rep_publish_time, rep_text, \\\n",
    "               rep_site_source, rep_site_city, create_time, extends_1, extends_2, extends_3, \\\n",
    "               ccgp_url, ccgp_html, status, update_time, rep_label, read_status from \\\n",
    "               qcc_data where rep_label is null limit 1000;')\n",
    "\n",
    "    client.commit()\n",
    "\n",
    "    res3 = cursor.execute('update qcc_data set rep_label =1 where rep_label is null limit 1000')\n",
    "    client.commit()\n",
    "    #print(\"-------------已读取%s条数据---------------\" % str(res3))\n",
    "\n",
    "#cursor.close()\n",
    "print(\"END\")"
   ]
  },
  {
   "cell_type": "markdown",
   "metadata": {},
   "source": [
    "## 中标金额"
   ]
  },
  {
   "cell_type": "code",
   "execution_count": 6,
   "metadata": {},
   "outputs": [
    {
     "ename": "InternalError",
     "evalue": "(1205, 'Lock wait timeout exceeded; try restarting transaction')",
     "output_type": "error",
     "traceback": [
      "\u001b[1;31m---------------------------------------------------------------------------\u001b[0m",
      "\u001b[1;31mInternalError\u001b[0m                             Traceback (most recent call last)",
      "\u001b[1;32m<ipython-input-6-06e780cf0a21>\u001b[0m in \u001b[0;36m<module>\u001b[1;34m\u001b[0m\n\u001b[0;32m      7\u001b[0m                \u001b[0mrep_site_source\u001b[0m\u001b[1;33m,\u001b[0m \u001b[0mrep_site_city\u001b[0m\u001b[1;33m,\u001b[0m \u001b[0mcreate_time\u001b[0m\u001b[1;33m,\u001b[0m \u001b[0mextends_1\u001b[0m\u001b[1;33m,\u001b[0m \u001b[0mextends_2\u001b[0m\u001b[1;33m,\u001b[0m \u001b[0mextends_3\u001b[0m\u001b[1;33m,\u001b[0m\u001b[0;31m \u001b[0m\u001b[0;31m\\\u001b[0m\u001b[1;33m\u001b[0m\u001b[1;33m\u001b[0m\u001b[0m\n\u001b[0;32m      8\u001b[0m                \u001b[0mccgp_url\u001b[0m\u001b[1;33m,\u001b[0m \u001b[0mccgp_html\u001b[0m\u001b[1;33m,\u001b[0m \u001b[0mstatus\u001b[0m\u001b[1;33m,\u001b[0m \u001b[0mupdate_time\u001b[0m\u001b[1;33m,\u001b[0m \u001b[0mrep_label\u001b[0m\u001b[1;33m,\u001b[0m \u001b[0mread_status\u001b[0m\u001b[0;31m \u001b[0m\u001b[0;31m\\\u001b[0m\u001b[1;33m\u001b[0m\u001b[1;33m\u001b[0m\u001b[0m\n\u001b[1;32m----> 9\u001b[1;33m                from qcc_data where rep_label is null limit 1000;')\n\u001b[0m\u001b[0;32m     10\u001b[0m \u001b[1;33m\u001b[0m\u001b[0m\n\u001b[0;32m     11\u001b[0m \u001b[0mclient\u001b[0m\u001b[1;33m.\u001b[0m\u001b[0mcommit\u001b[0m\u001b[1;33m(\u001b[0m\u001b[1;33m)\u001b[0m\u001b[1;33m\u001b[0m\u001b[1;33m\u001b[0m\u001b[0m\n",
      "\u001b[1;32mD:\\Anaconda2\\envs\\py3.5\\lib\\site-packages\\pymysql\\cursors.py\u001b[0m in \u001b[0;36mexecute\u001b[1;34m(self, query, args)\u001b[0m\n\u001b[0;32m    168\u001b[0m         \u001b[0mquery\u001b[0m \u001b[1;33m=\u001b[0m \u001b[0mself\u001b[0m\u001b[1;33m.\u001b[0m\u001b[0mmogrify\u001b[0m\u001b[1;33m(\u001b[0m\u001b[0mquery\u001b[0m\u001b[1;33m,\u001b[0m \u001b[0margs\u001b[0m\u001b[1;33m)\u001b[0m\u001b[1;33m\u001b[0m\u001b[1;33m\u001b[0m\u001b[0m\n\u001b[0;32m    169\u001b[0m \u001b[1;33m\u001b[0m\u001b[0m\n\u001b[1;32m--> 170\u001b[1;33m         \u001b[0mresult\u001b[0m \u001b[1;33m=\u001b[0m \u001b[0mself\u001b[0m\u001b[1;33m.\u001b[0m\u001b[0m_query\u001b[0m\u001b[1;33m(\u001b[0m\u001b[0mquery\u001b[0m\u001b[1;33m)\u001b[0m\u001b[1;33m\u001b[0m\u001b[1;33m\u001b[0m\u001b[0m\n\u001b[0m\u001b[0;32m    171\u001b[0m         \u001b[0mself\u001b[0m\u001b[1;33m.\u001b[0m\u001b[0m_executed\u001b[0m \u001b[1;33m=\u001b[0m \u001b[0mquery\u001b[0m\u001b[1;33m\u001b[0m\u001b[1;33m\u001b[0m\u001b[0m\n\u001b[0;32m    172\u001b[0m         \u001b[1;32mreturn\u001b[0m \u001b[0mresult\u001b[0m\u001b[1;33m\u001b[0m\u001b[1;33m\u001b[0m\u001b[0m\n",
      "\u001b[1;32mD:\\Anaconda2\\envs\\py3.5\\lib\\site-packages\\pymysql\\cursors.py\u001b[0m in \u001b[0;36m_query\u001b[1;34m(self, q)\u001b[0m\n\u001b[0;32m    326\u001b[0m         \u001b[0mself\u001b[0m\u001b[1;33m.\u001b[0m\u001b[0m_last_executed\u001b[0m \u001b[1;33m=\u001b[0m \u001b[0mq\u001b[0m\u001b[1;33m\u001b[0m\u001b[1;33m\u001b[0m\u001b[0m\n\u001b[0;32m    327\u001b[0m         \u001b[0mself\u001b[0m\u001b[1;33m.\u001b[0m\u001b[0m_clear_result\u001b[0m\u001b[1;33m(\u001b[0m\u001b[1;33m)\u001b[0m\u001b[1;33m\u001b[0m\u001b[1;33m\u001b[0m\u001b[0m\n\u001b[1;32m--> 328\u001b[1;33m         \u001b[0mconn\u001b[0m\u001b[1;33m.\u001b[0m\u001b[0mquery\u001b[0m\u001b[1;33m(\u001b[0m\u001b[0mq\u001b[0m\u001b[1;33m)\u001b[0m\u001b[1;33m\u001b[0m\u001b[1;33m\u001b[0m\u001b[0m\n\u001b[0m\u001b[0;32m    329\u001b[0m         \u001b[0mself\u001b[0m\u001b[1;33m.\u001b[0m\u001b[0m_do_get_result\u001b[0m\u001b[1;33m(\u001b[0m\u001b[1;33m)\u001b[0m\u001b[1;33m\u001b[0m\u001b[1;33m\u001b[0m\u001b[0m\n\u001b[0;32m    330\u001b[0m         \u001b[1;32mreturn\u001b[0m \u001b[0mself\u001b[0m\u001b[1;33m.\u001b[0m\u001b[0mrowcount\u001b[0m\u001b[1;33m\u001b[0m\u001b[1;33m\u001b[0m\u001b[0m\n",
      "\u001b[1;32mD:\\Anaconda2\\envs\\py3.5\\lib\\site-packages\\pymysql\\connections.py\u001b[0m in \u001b[0;36mquery\u001b[1;34m(self, sql, unbuffered)\u001b[0m\n\u001b[0;32m    515\u001b[0m                 \u001b[0msql\u001b[0m \u001b[1;33m=\u001b[0m \u001b[0msql\u001b[0m\u001b[1;33m.\u001b[0m\u001b[0mencode\u001b[0m\u001b[1;33m(\u001b[0m\u001b[0mself\u001b[0m\u001b[1;33m.\u001b[0m\u001b[0mencoding\u001b[0m\u001b[1;33m,\u001b[0m \u001b[1;34m'surrogateescape'\u001b[0m\u001b[1;33m)\u001b[0m\u001b[1;33m\u001b[0m\u001b[1;33m\u001b[0m\u001b[0m\n\u001b[0;32m    516\u001b[0m         \u001b[0mself\u001b[0m\u001b[1;33m.\u001b[0m\u001b[0m_execute_command\u001b[0m\u001b[1;33m(\u001b[0m\u001b[0mCOMMAND\u001b[0m\u001b[1;33m.\u001b[0m\u001b[0mCOM_QUERY\u001b[0m\u001b[1;33m,\u001b[0m \u001b[0msql\u001b[0m\u001b[1;33m)\u001b[0m\u001b[1;33m\u001b[0m\u001b[1;33m\u001b[0m\u001b[0m\n\u001b[1;32m--> 517\u001b[1;33m         \u001b[0mself\u001b[0m\u001b[1;33m.\u001b[0m\u001b[0m_affected_rows\u001b[0m \u001b[1;33m=\u001b[0m \u001b[0mself\u001b[0m\u001b[1;33m.\u001b[0m\u001b[0m_read_query_result\u001b[0m\u001b[1;33m(\u001b[0m\u001b[0munbuffered\u001b[0m\u001b[1;33m=\u001b[0m\u001b[0munbuffered\u001b[0m\u001b[1;33m)\u001b[0m\u001b[1;33m\u001b[0m\u001b[1;33m\u001b[0m\u001b[0m\n\u001b[0m\u001b[0;32m    518\u001b[0m         \u001b[1;32mreturn\u001b[0m \u001b[0mself\u001b[0m\u001b[1;33m.\u001b[0m\u001b[0m_affected_rows\u001b[0m\u001b[1;33m\u001b[0m\u001b[1;33m\u001b[0m\u001b[0m\n\u001b[0;32m    519\u001b[0m \u001b[1;33m\u001b[0m\u001b[0m\n",
      "\u001b[1;32mD:\\Anaconda2\\envs\\py3.5\\lib\\site-packages\\pymysql\\connections.py\u001b[0m in \u001b[0;36m_read_query_result\u001b[1;34m(self, unbuffered)\u001b[0m\n\u001b[0;32m    730\u001b[0m         \u001b[1;32melse\u001b[0m\u001b[1;33m:\u001b[0m\u001b[1;33m\u001b[0m\u001b[1;33m\u001b[0m\u001b[0m\n\u001b[0;32m    731\u001b[0m             \u001b[0mresult\u001b[0m \u001b[1;33m=\u001b[0m \u001b[0mMySQLResult\u001b[0m\u001b[1;33m(\u001b[0m\u001b[0mself\u001b[0m\u001b[1;33m)\u001b[0m\u001b[1;33m\u001b[0m\u001b[1;33m\u001b[0m\u001b[0m\n\u001b[1;32m--> 732\u001b[1;33m             \u001b[0mresult\u001b[0m\u001b[1;33m.\u001b[0m\u001b[0mread\u001b[0m\u001b[1;33m(\u001b[0m\u001b[1;33m)\u001b[0m\u001b[1;33m\u001b[0m\u001b[1;33m\u001b[0m\u001b[0m\n\u001b[0m\u001b[0;32m    733\u001b[0m         \u001b[0mself\u001b[0m\u001b[1;33m.\u001b[0m\u001b[0m_result\u001b[0m \u001b[1;33m=\u001b[0m \u001b[0mresult\u001b[0m\u001b[1;33m\u001b[0m\u001b[1;33m\u001b[0m\u001b[0m\n\u001b[0;32m    734\u001b[0m         \u001b[1;32mif\u001b[0m \u001b[0mresult\u001b[0m\u001b[1;33m.\u001b[0m\u001b[0mserver_status\u001b[0m \u001b[1;32mis\u001b[0m \u001b[1;32mnot\u001b[0m \u001b[1;32mNone\u001b[0m\u001b[1;33m:\u001b[0m\u001b[1;33m\u001b[0m\u001b[1;33m\u001b[0m\u001b[0m\n",
      "\u001b[1;32mD:\\Anaconda2\\envs\\py3.5\\lib\\site-packages\\pymysql\\connections.py\u001b[0m in \u001b[0;36mread\u001b[1;34m(self)\u001b[0m\n\u001b[0;32m   1073\u001b[0m     \u001b[1;32mdef\u001b[0m \u001b[0mread\u001b[0m\u001b[1;33m(\u001b[0m\u001b[0mself\u001b[0m\u001b[1;33m)\u001b[0m\u001b[1;33m:\u001b[0m\u001b[1;33m\u001b[0m\u001b[1;33m\u001b[0m\u001b[0m\n\u001b[0;32m   1074\u001b[0m         \u001b[1;32mtry\u001b[0m\u001b[1;33m:\u001b[0m\u001b[1;33m\u001b[0m\u001b[1;33m\u001b[0m\u001b[0m\n\u001b[1;32m-> 1075\u001b[1;33m             \u001b[0mfirst_packet\u001b[0m \u001b[1;33m=\u001b[0m \u001b[0mself\u001b[0m\u001b[1;33m.\u001b[0m\u001b[0mconnection\u001b[0m\u001b[1;33m.\u001b[0m\u001b[0m_read_packet\u001b[0m\u001b[1;33m(\u001b[0m\u001b[1;33m)\u001b[0m\u001b[1;33m\u001b[0m\u001b[1;33m\u001b[0m\u001b[0m\n\u001b[0m\u001b[0;32m   1076\u001b[0m \u001b[1;33m\u001b[0m\u001b[0m\n\u001b[0;32m   1077\u001b[0m             \u001b[1;32mif\u001b[0m \u001b[0mfirst_packet\u001b[0m\u001b[1;33m.\u001b[0m\u001b[0mis_ok_packet\u001b[0m\u001b[1;33m(\u001b[0m\u001b[1;33m)\u001b[0m\u001b[1;33m:\u001b[0m\u001b[1;33m\u001b[0m\u001b[1;33m\u001b[0m\u001b[0m\n",
      "\u001b[1;32mD:\\Anaconda2\\envs\\py3.5\\lib\\site-packages\\pymysql\\connections.py\u001b[0m in \u001b[0;36m_read_packet\u001b[1;34m(self, packet_type)\u001b[0m\n\u001b[0;32m    682\u001b[0m \u001b[1;33m\u001b[0m\u001b[0m\n\u001b[0;32m    683\u001b[0m         \u001b[0mpacket\u001b[0m \u001b[1;33m=\u001b[0m \u001b[0mpacket_type\u001b[0m\u001b[1;33m(\u001b[0m\u001b[0mbuff\u001b[0m\u001b[1;33m,\u001b[0m \u001b[0mself\u001b[0m\u001b[1;33m.\u001b[0m\u001b[0mencoding\u001b[0m\u001b[1;33m)\u001b[0m\u001b[1;33m\u001b[0m\u001b[1;33m\u001b[0m\u001b[0m\n\u001b[1;32m--> 684\u001b[1;33m         \u001b[0mpacket\u001b[0m\u001b[1;33m.\u001b[0m\u001b[0mcheck_error\u001b[0m\u001b[1;33m(\u001b[0m\u001b[1;33m)\u001b[0m\u001b[1;33m\u001b[0m\u001b[1;33m\u001b[0m\u001b[0m\n\u001b[0m\u001b[0;32m    685\u001b[0m         \u001b[1;32mreturn\u001b[0m \u001b[0mpacket\u001b[0m\u001b[1;33m\u001b[0m\u001b[1;33m\u001b[0m\u001b[0m\n\u001b[0;32m    686\u001b[0m \u001b[1;33m\u001b[0m\u001b[0m\n",
      "\u001b[1;32mD:\\Anaconda2\\envs\\py3.5\\lib\\site-packages\\pymysql\\protocol.py\u001b[0m in \u001b[0;36mcheck_error\u001b[1;34m(self)\u001b[0m\n\u001b[0;32m    218\u001b[0m             \u001b[0merrno\u001b[0m \u001b[1;33m=\u001b[0m \u001b[0mself\u001b[0m\u001b[1;33m.\u001b[0m\u001b[0mread_uint16\u001b[0m\u001b[1;33m(\u001b[0m\u001b[1;33m)\u001b[0m\u001b[1;33m\u001b[0m\u001b[1;33m\u001b[0m\u001b[0m\n\u001b[0;32m    219\u001b[0m             \u001b[1;32mif\u001b[0m \u001b[0mDEBUG\u001b[0m\u001b[1;33m:\u001b[0m \u001b[0mprint\u001b[0m\u001b[1;33m(\u001b[0m\u001b[1;34m\"errno =\"\u001b[0m\u001b[1;33m,\u001b[0m \u001b[0merrno\u001b[0m\u001b[1;33m)\u001b[0m\u001b[1;33m\u001b[0m\u001b[1;33m\u001b[0m\u001b[0m\n\u001b[1;32m--> 220\u001b[1;33m             \u001b[0merr\u001b[0m\u001b[1;33m.\u001b[0m\u001b[0mraise_mysql_exception\u001b[0m\u001b[1;33m(\u001b[0m\u001b[0mself\u001b[0m\u001b[1;33m.\u001b[0m\u001b[0m_data\u001b[0m\u001b[1;33m)\u001b[0m\u001b[1;33m\u001b[0m\u001b[1;33m\u001b[0m\u001b[0m\n\u001b[0m\u001b[0;32m    221\u001b[0m \u001b[1;33m\u001b[0m\u001b[0m\n\u001b[0;32m    222\u001b[0m     \u001b[1;32mdef\u001b[0m \u001b[0mdump\u001b[0m\u001b[1;33m(\u001b[0m\u001b[0mself\u001b[0m\u001b[1;33m)\u001b[0m\u001b[1;33m:\u001b[0m\u001b[1;33m\u001b[0m\u001b[1;33m\u001b[0m\u001b[0m\n",
      "\u001b[1;32mD:\\Anaconda2\\envs\\py3.5\\lib\\site-packages\\pymysql\\err.py\u001b[0m in \u001b[0;36mraise_mysql_exception\u001b[1;34m(data)\u001b[0m\n\u001b[0;32m    107\u001b[0m         \u001b[0merrval\u001b[0m \u001b[1;33m=\u001b[0m \u001b[0mdata\u001b[0m\u001b[1;33m[\u001b[0m\u001b[1;36m3\u001b[0m\u001b[1;33m:\u001b[0m\u001b[1;33m]\u001b[0m\u001b[1;33m.\u001b[0m\u001b[0mdecode\u001b[0m\u001b[1;33m(\u001b[0m\u001b[1;34m'utf-8'\u001b[0m\u001b[1;33m,\u001b[0m \u001b[1;34m'replace'\u001b[0m\u001b[1;33m)\u001b[0m\u001b[1;33m\u001b[0m\u001b[1;33m\u001b[0m\u001b[0m\n\u001b[0;32m    108\u001b[0m     \u001b[0merrorclass\u001b[0m \u001b[1;33m=\u001b[0m \u001b[0merror_map\u001b[0m\u001b[1;33m.\u001b[0m\u001b[0mget\u001b[0m\u001b[1;33m(\u001b[0m\u001b[0merrno\u001b[0m\u001b[1;33m,\u001b[0m \u001b[0mInternalError\u001b[0m\u001b[1;33m)\u001b[0m\u001b[1;33m\u001b[0m\u001b[1;33m\u001b[0m\u001b[0m\n\u001b[1;32m--> 109\u001b[1;33m     \u001b[1;32mraise\u001b[0m \u001b[0merrorclass\u001b[0m\u001b[1;33m(\u001b[0m\u001b[0merrno\u001b[0m\u001b[1;33m,\u001b[0m \u001b[0merrval\u001b[0m\u001b[1;33m)\u001b[0m\u001b[1;33m\u001b[0m\u001b[1;33m\u001b[0m\u001b[0m\n\u001b[0m",
      "\u001b[1;31mInternalError\u001b[0m: (1205, 'Lock wait timeout exceeded; try restarting transaction')"
     ]
    }
   ],
   "source": [
    "res1 = cursor.execute('insert into proc_data(id, rep_project_name, rep_project_num, \\\n",
    "               rep_region, rep_page_url, rep_publish_time, rep_text, \\\n",
    "               rep_site_source, rep_site_city, create_time, extends_1, extends_2, extends_3, \\\n",
    "               ccgp_url, ccgp_html, status, update_time, rep_label, read_status) \\\n",
    "               select id, rep_project_name, rep_project_num, \\\n",
    "               rep_region, rep_page_url, rep_publish_time, rep_text, \\\n",
    "               rep_site_source, rep_site_city, create_time, extends_1, extends_2, extends_3, \\\n",
    "               ccgp_url, ccgp_html, status, update_time, rep_label, read_status \\\n",
    "               from qcc_data where rep_label is null limit 1000;')\n",
    "\n",
    "client.commit()\n",
    "\n",
    "res2 = cursor.execute('update qcc_data set rep_label =1 where rep_label is null limit 1000')\n",
    "client.commit()"
   ]
  },
  {
   "cell_type": "code",
   "execution_count": null,
   "metadata": {},
   "outputs": [
    {
     "name": "stdout",
     "output_type": "stream",
     "text": [
      "-----------已更新1000条数据----------\n"
     ]
    }
   ],
   "source": [
    "import time\n",
    "a = 0\n",
    "\n",
    "res = 1\n",
    "while res1:\n",
    "    # 调用存储过程\n",
    "    try:\n",
    "        proc1 = cursor.callproc('zk_cgzbje')\n",
    "    except:\n",
    "        continue\n",
    "        # 更新已有数据\n",
    "    upd = cursor.execute('update proc_data set rep_label =1 where rep_label is null limit 1000')\n",
    "    client.commit()\n",
    "    print(\"-----------已更新%s条数据----------\" % str(a+upd))\n",
    "    a += 1000\n",
    "\n",
    "    time.sleep(5)\n",
    "\n",
    "    # 查看数据\n",
    "    res1 = cursor.execute('insert into proc_data(id, rep_project_name, rep_project_num, \\\n",
    "               rep_region, rep_page_url, rep_publish_time, rep_text, \\\n",
    "               rep_site_source, rep_site_city, create_time, extends_1, extends_2, extends_3, \\\n",
    "               ccgp_url, ccgp_html, status, update_time, rep_label, read_status) \\\n",
    "               select id, rep_project_name, rep_project_num, \\\n",
    "               rep_region, rep_page_url, rep_publish_time, rep_text, \\\n",
    "               rep_site_source, rep_site_city, create_time, extends_1, extends_2, extends_3, \\\n",
    "               ccgp_url, ccgp_html, status, update_time, rep_label, read_status from \\\n",
    "               qcc_data where rep_label is null limit 1000;')\n",
    "\n",
    "    client.commit()\n",
    "\n",
    "    res3 = cursor.execute('update qcc_data set rep_label =1 where rep_label is null limit 1000')\n",
    "    client.commit()\n",
    "    #print(\"-------------已读取%s条数据---------------\" % str(res3))\n",
    "\n",
    "#cursor.close()\n",
    "print(\"END\")"
   ]
  },
  {
   "cell_type": "code",
   "execution_count": null,
   "metadata": {},
   "outputs": [],
   "source": []
  },
  {
   "cell_type": "code",
   "execution_count": null,
   "metadata": {},
   "outputs": [],
   "source": [
    "# coding: utf-8\n",
    "import pymysql\n",
    "import time\n",
    "\n",
    "def main():\n",
    "    # 从爬虫源表插入1000条数据到proc_data表\n",
    "    res1 = cursor.execute('insert into proc_data(id, rep_project_name, rep_project_num, \\\n",
    "                   rep_region, rep_page_url, rep_publish_time, rep_text, \\\n",
    "                   rep_site_source, rep_site_city, create_time, extends_1, extends_2, extends_3, \\\n",
    "                   ccgp_url, ccgp_html, status, update_time, rep_label, read_status) \\\n",
    "                   select id, rep_project_name, rep_project_num, \\\n",
    "                   rep_region, rep_page_url, rep_publish_time, rep_text, \\\n",
    "                   rep_site_source, rep_site_city, create_time, extends_1, extends_2, extends_3, \\\n",
    "                   ccgp_url, ccgp_html, status, update_time, rep_label, read_status \\\n",
    "                   from qcc_data where rep_label is null limit 1000;')\n",
    "\n",
    "    client.commit()\n",
    "\n",
    "    # 更新已读取数据的标签值\n",
    "    res2 = cursor.execute('update qcc_data set rep_label =1 where rep_label is null limit 1000')\n",
    "    client.commit()\n",
    "\n",
    "    a = 0\n",
    "\n",
    "    while res1:\n",
    "        # 调用存储过程\n",
    "        try:\n",
    "            start = time.clock()\n",
    "            print(\"1.调用解析项目名称的存储过程：\")\n",
    "            proc1 = cursor.callproc('zk_cgxmmc')\n",
    "            time.sleep(10)\n",
    "            print(\"2.调用解析项目编号的存储过程：\")\n",
    "            proc2 = cursor.callproc('zk_cgxmbh')\n",
    "            time.sleep(10)\n",
    "            print(\"3.调用解析采购方式的存储过程：\")\n",
    "            proc3 = cursor.callproc('zk_cgcglx')\n",
    "            time.sleep(10)\n",
    "            print(\"4.调用解析客户名称的存储过程：\")\n",
    "            proc4 = cursor.callproc('zk_cgkhmc')\n",
    "            time.sleep(10)\n",
    "            print(\"5.调用解析中标厂家的存储过程：\")\n",
    "            proc5 = cursor.callproc('zk_cgzbcj')\n",
    "            time.sleep(10)\n",
    "            print(\"6.调用解析预算金额的存储过程：\")\n",
    "            proc6 = cursor.callproc('zk_cgysje')\n",
    "            time.sleep(10)\n",
    "            print(\"7.调用解析中标日期的存储过程：\")\n",
    "            proc7 = cursor.callproc('zk_deal_date')\n",
    "            time.sleep(10)\n",
    "            print(\"8.调用解析中标金额的存储过程：\")\n",
    "            proc7 = cursor.callproc('zk_cgzbje')\n",
    "            time.sleep(10)\n",
    "            end = time.clock()\n",
    "            print(\"所需%s时间\" % str(end - start))\n",
    "        except:\n",
    "            continue\n",
    "            # 更新已有数据\n",
    "        upd = cursor.execute('update proc_data set rep_label =1 where rep_label is null limit 1000')\n",
    "        client.commit()\n",
    "        print(\"-----------已更新%s条数据----------\" % str(a+upd))\n",
    "        a += 1000\n",
    "\n",
    "        time.sleep(5)\n",
    "\n",
    "        # 查看数据\n",
    "        res1 = cursor.execute('insert into proc_data(id, rep_project_name, rep_project_num, \\\n",
    "                   rep_region, rep_page_url, rep_publish_time, rep_text, \\\n",
    "                   rep_site_source, rep_site_city, create_time, extends_1, extends_2, extends_3, \\\n",
    "                   ccgp_url, ccgp_html, status, update_time, rep_label, read_status) \\\n",
    "                   select id, rep_project_name, rep_project_num, \\\n",
    "                   rep_region, rep_page_url, rep_publish_time, rep_text, \\\n",
    "                   rep_site_source, rep_site_city, create_time, extends_1, extends_2, extends_3, \\\n",
    "                   ccgp_url, ccgp_html, status, update_time, rep_label, read_status from \\\n",
    "                   qcc_data where rep_label is null limit 1000;')\n",
    "\n",
    "        client.commit()\n",
    "\n",
    "        res3 = cursor.execute('update qcc_data set rep_label =1 where rep_label is null limit 1000')\n",
    "        client.commit()\n",
    "        #print(\"-------------已读取%s条数据---------------\" % str(res3))\n",
    "\n",
    "    res4 = cursor.execute('update proc_data set rep_label =1 where rep_label is null')\n",
    "    cursor.close()\n",
    "    \n",
    "    \n",
    "    \n",
    "client = pymysql.connect(host='192.168.1.172',\n",
    "                        port=3306,\n",
    "                        user='root',\n",
    "                        password='root123',\n",
    "                        database = 'rep_assistant',\n",
    "                        charset='utf8')\n",
    "\n",
    "cursor=client.cursor(pymysql.cursors.DictCursor)\n",
    "\n",
    "if __name__ == '__main__':\n",
    "    main()\n",
    "    print(\"END\")"
   ]
  },
  {
   "cell_type": "code",
   "execution_count": null,
   "metadata": {},
   "outputs": [],
   "source": []
  },
  {
   "cell_type": "code",
   "execution_count": null,
   "metadata": {},
   "outputs": [],
   "source": []
  },
  {
   "cell_type": "code",
   "execution_count": null,
   "metadata": {},
   "outputs": [],
   "source": []
  },
  {
   "cell_type": "code",
   "execution_count": null,
   "metadata": {},
   "outputs": [],
   "source": []
  },
  {
   "cell_type": "code",
   "execution_count": null,
   "metadata": {},
   "outputs": [],
   "source": []
  },
  {
   "cell_type": "code",
   "execution_count": null,
   "metadata": {},
   "outputs": [],
   "source": []
  },
  {
   "cell_type": "code",
   "execution_count": null,
   "metadata": {},
   "outputs": [],
   "source": []
  },
  {
   "cell_type": "code",
   "execution_count": null,
   "metadata": {},
   "outputs": [],
   "source": []
  }
 ],
 "metadata": {
  "kernelspec": {
   "display_name": "Python [conda env:py3.5]",
   "language": "python",
   "name": "conda-env-py3.5-py"
  },
  "language_info": {
   "codemirror_mode": {
    "name": "ipython",
    "version": 3
   },
   "file_extension": ".py",
   "mimetype": "text/x-python",
   "name": "python",
   "nbconvert_exporter": "python",
   "pygments_lexer": "ipython3",
   "version": "3.7.2"
  }
 },
 "nbformat": 4,
 "nbformat_minor": 2
}
